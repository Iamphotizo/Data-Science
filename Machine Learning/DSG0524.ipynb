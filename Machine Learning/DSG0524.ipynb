{
 "cells": [
  {
   "cell_type": "code",
   "execution_count": 1,
   "id": "434205a9-d6e9-4bb6-92a1-9dcb9f002bef",
   "metadata": {},
   "outputs": [
    {
     "name": "stdout",
     "output_type": "stream",
     "text": [
      "Hello data Science\n"
     ]
    }
   ],
   "source": [
    "print(\"Hello data Science\")"
   ]
  },
  {
   "cell_type": "code",
   "execution_count": 2,
   "id": "fe734e6d-e745-4f1e-9066-5676fa32fc64",
   "metadata": {},
   "outputs": [
    {
     "name": "stdout",
     "output_type": "stream",
     "text": [
      "My Name is King Manuel\n"
     ]
    }
   ],
   "source": [
    "print(\"My Name is King Manuel\")"
   ]
  },
  {
   "cell_type": "code",
   "execution_count": 3,
   "id": "fda48067-b026-41a0-b4c9-e81615837c19",
   "metadata": {},
   "outputs": [
    {
     "data": {
      "text/plain": [
       "50"
      ]
     },
     "execution_count": 3,
     "metadata": {},
     "output_type": "execute_result"
    }
   ],
   "source": [
    "24+26"
   ]
  },
  {
   "cell_type": "code",
   "execution_count": 4,
   "id": "9263cdd7-c261-4a9c-b80e-5175090724de",
   "metadata": {},
   "outputs": [
    {
     "data": {
      "text/plain": [
       "5.0"
      ]
     },
     "execution_count": 4,
     "metadata": {},
     "output_type": "execute_result"
    }
   ],
   "source": [
    "25/5"
   ]
  },
  {
   "cell_type": "code",
   "execution_count": 5,
   "id": "12ddb900-9a43-4f3e-ab33-234121c4884e",
   "metadata": {},
   "outputs": [
    {
     "data": {
      "text/plain": [
       "120"
      ]
     },
     "execution_count": 5,
     "metadata": {},
     "output_type": "execute_result"
    }
   ],
   "source": [
    "24*5"
   ]
  },
  {
   "cell_type": "code",
   "execution_count": 12,
   "id": "ac5a3a2c-2cf0-477c-a799-3baabd792c34",
   "metadata": {},
   "outputs": [],
   "source": [
    "x = 24+26"
   ]
  },
  {
   "cell_type": "code",
   "execution_count": 14,
   "id": "50efdc39-819b-4902-a395-ef010fb29767",
   "metadata": {},
   "outputs": [
    {
     "data": {
      "text/plain": [
       "50"
      ]
     },
     "execution_count": 14,
     "metadata": {},
     "output_type": "execute_result"
    }
   ],
   "source": [
    "x"
   ]
  },
  {
   "cell_type": "code",
   "execution_count": 16,
   "id": "d141a759-b5f7-4a6b-b72a-8ef74c19efb9",
   "metadata": {},
   "outputs": [
    {
     "name": "stdout",
     "output_type": "stream",
     "text": [
      "50\n"
     ]
    }
   ],
   "source": [
    "print(x)"
   ]
  },
  {
   "cell_type": "code",
   "execution_count": null,
   "id": "87dd3e3c-3f65-4df4-88b2-7454b1d74ec1",
   "metadata": {},
   "outputs": [],
   "source": []
  }
 ],
 "metadata": {
  "kernelspec": {
   "display_name": "Python 3 (ipykernel)",
   "language": "python",
   "name": "python3"
  },
  "language_info": {
   "codemirror_mode": {
    "name": "ipython",
    "version": 3
   },
   "file_extension": ".py",
   "mimetype": "text/x-python",
   "name": "python",
   "nbconvert_exporter": "python",
   "pygments_lexer": "ipython3",
   "version": "3.11.7"
  }
 },
 "nbformat": 4,
 "nbformat_minor": 5
}
